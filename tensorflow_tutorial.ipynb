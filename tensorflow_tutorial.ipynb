{
 "cells": [
  {
   "cell_type": "code",
   "execution_count": 1,
   "metadata": {},
   "outputs": [
    {
     "name": "stdout",
     "output_type": "stream",
     "text": [
      "Extracting MNIST_data/train-images-idx3-ubyte.gz\n",
      "Extracting MNIST_data/train-labels-idx1-ubyte.gz\n",
      "Extracting MNIST_data/t10k-images-idx3-ubyte.gz\n",
      "Extracting MNIST_data/t10k-labels-idx1-ubyte.gz\n"
     ]
    }
   ],
   "source": [
    "from tensorflow.examples.tutorials.mnist import input_data\n",
    "mnist = input_data.read_data_sets(\"MNIST_data\", one_hot=True)"
   ]
  },
  {
   "cell_type": "code",
   "execution_count": 3,
   "metadata": {
    "collapsed": true
   },
   "outputs": [],
   "source": [
    "import tensorflow as tf"
   ]
  },
  {
   "cell_type": "code",
   "execution_count": 4,
   "metadata": {},
   "outputs": [],
   "source": [
    "x = tf.placeholder(\"float\", [None, 784]) # mnist data image of shape 28*28=784\n",
    "y = tf.placeholder(\"float\", [None, 10]) # 0-9 digits recognition => 10 classes"
   ]
  },
  {
   "cell_type": "code",
   "execution_count": 5,
   "metadata": {
    "collapsed": true
   },
   "outputs": [],
   "source": [
    "W = tf.Variable(tf.zeros([784, 10]))\n",
    "b = tf.Variable(tf.zeros([10]))"
   ]
  },
  {
   "cell_type": "code",
   "execution_count": 6,
   "metadata": {
    "collapsed": true
   },
   "outputs": [],
   "source": [
    "linear_prediction = tf.matmul(x, W) + b\n",
    "scaled_prediction = tf.nn.softmax(linear_prediction) # Softmax\n",
    "loss_function = tf.losses.softmax_cross_entropy(y, linear_prediction)"
   ]
  },
  {
   "cell_type": "code",
   "execution_count": 9,
   "metadata": {
    "collapsed": true
   },
   "outputs": [],
   "source": [
    "learning_rate = 0.01\n",
    "optimizer = tf.train.GradientDescentOptimizer(learning_rate).minimize(loss_function)"
   ]
  },
  {
   "cell_type": "code",
   "execution_count": 12,
   "metadata": {
    "collapsed": true
   },
   "outputs": [],
   "source": [
    "init = tf.global_variables_initializer()\n",
    "sess = tf.InteractiveSession()\n",
    "sess.run(init)"
   ]
  },
  {
   "cell_type": "code",
   "execution_count": 11,
   "metadata": {},
   "outputs": [
    {
     "name": "stdout",
     "output_type": "stream",
     "text": [
      "Iteration: 1 cost= 0.743599474\n",
      "Iteration: 3 cost= 0.494251847\n",
      "Iteration: 5 cost= 0.427804738\n",
      "Iteration: 7 cost= 0.394568861\n",
      "Iteration: 9 cost= 0.374085575\n",
      "Iteration: 11 cost= 0.359885186\n",
      "Iteration: 13 cost= 0.349166662\n",
      "Iteration: 15 cost= 0.340891242\n",
      "Iteration: 17 cost= 0.334062874\n",
      "Iteration: 19 cost= 0.328272730\n",
      "Iteration: 21 cost= 0.323961467\n",
      "Iteration: 23 cost= 0.319906920\n",
      "Iteration: 25 cost= 0.316299796\n",
      "Iteration: 27 cost= 0.312982619\n",
      "Iteration: 29 cost= 0.310380399\n",
      "Tuning completed!\n"
     ]
    }
   ],
   "source": [
    "training_iteration = 30\n",
    "batch_size = 100\n",
    "batch_count = int(mnist.train.num_examples/batch_size)\n",
    "\n",
    "for iteration in range(training_iteration):\n",
    "    for i in range(batch_count):\n",
    "        batch_x, batch_y = mnist.train.next_batch(batch_size)\n",
    "        sess.run(optimizer, feed_dict={x: batch_x, y: batch_y})\n",
    "    if iteration % 5 == 0:\n",
    "        loss = loss_function.eval({x: mnist.test.images, y: mnist.test.labels})\n",
    "        print (\"Iteration:\", '{}'.format(iteration), \"cost=\", \"{:.9f}\".format(loss))\n",
    "print (\"Tuning completed!\")"
   ]
  },
  {
   "cell_type": "code",
   "execution_count": 17,
   "metadata": {
    "collapsed": true
   },
   "outputs": [],
   "source": [
    "predicted_label = tf.argmax(scaled_prediction, 1)\n",
    "actual_label = tf.argmax(y, 1)\n",
    "is_equal_labels = tf.equal(actual_label, predicted_label)\n",
    "accuracy = tf.reduce_mean(tf.cast(is_equal_labels, \"float\"))"
   ]
  },
  {
   "cell_type": "code",
   "execution_count": 20,
   "metadata": {},
   "outputs": [
    {
     "name": "stdout",
     "output_type": "stream",
     "text": [
      "Accuracy: 0.916\n"
     ]
    }
   ],
   "source": [
    "accracy_value = accuracy.eval({x: mnist.test.images, y: mnist.test.labels})\n",
    "print (\"Accuracy:\", accracy_value)"
   ]
  },
  {
   "cell_type": "code",
   "execution_count": 21,
   "metadata": {
    "collapsed": true
   },
   "outputs": [],
   "source": [
    "predicted_test_values = predicted_label.eval({x: mnist.test.images})"
   ]
  },
  {
   "cell_type": "code",
   "execution_count": 23,
   "metadata": {},
   "outputs": [
    {
     "data": {
      "image/png": "[encoded data removed]",
      "text/plain": [
       "<matplotlib.figure.Figure at 0x12e8fc860>"
      ]
     },
     "metadata": {},
     "output_type": "display_data"
    }
   ],
   "source": [
    "vizualize_data(mnist.test.images, \n",
    "               predicted_test_values,\n",
    "               label_name=\"Pred\")"
   ]
  },
  {
   "cell_type": "code",
   "execution_count": null,
   "metadata": {
    "collapsed": true
   },
   "outputs": [],
   "source": []
  },
  {
   "cell_type": "code",
   "execution_count": null,
   "metadata": {
    "collapsed": true
   },
   "outputs": [],
   "source": []
  }
 ],
 "metadata": {
  "kernelspec": {
   "display_name": "Python 3",
   "language": "python",
   "name": "python3"
  },
  "language_info": {
   "codemirror_mode": {
    "name": "ipython",
    "version": 3
   },
   "file_extension": ".py",
   "mimetype": "text/x-python",
   "name": "python",
   "nbconvert_exporter": "python",
   "pygments_lexer": "ipython3",
   "version": "3.6.2"
  }
 },
 "nbformat": 4,
 "nbformat_minor": 2
}
